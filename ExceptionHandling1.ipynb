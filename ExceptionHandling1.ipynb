{
 "cells": [
  {
   "attachments": {},
   "cell_type": "markdown",
   "metadata": {},
   "source": [
    "1) What is an exception in python? Write the difference b/w Exception and Syntax errors."
   ]
  },
  {
   "attachments": {},
   "cell_type": "markdown",
   "metadata": {},
   "source": [
    "Exceptions are raised during program execution when there is an error, and they can be handled using try-except blocks.\n",
    "Ex: Zero division error, Type error, Value Error, etc.\n",
    "\n",
    "Difference b/w Exception & synrtax errors.\n",
    "Exceptions are raised during program execution when there is an error, and they can be handled using try-except blocks. Syntax errors, on the other hand, occur due to mistakes in the code structure and need to be fixed directly."
   ]
  },
  {
   "attachments": {},
   "cell_type": "markdown",
   "metadata": {},
   "source": [
    "2) what happen when exception not handled . Explain with example."
   ]
  },
  {
   "attachments": {},
   "cell_type": "markdown",
   "metadata": {},
   "source": [
    "When an exception is not handled, it can lead to the termination of the program or cause unexpected behavior."
   ]
  },
  {
   "cell_type": "code",
   "execution_count": 2,
   "metadata": {},
   "outputs": [
    {
     "ename": "ZeroDivisionError",
     "evalue": "division by zero",
     "output_type": "error",
     "traceback": [
      "\u001b[1;31m---------------------------------------------------------------------------\u001b[0m",
      "\u001b[1;31mZeroDivisionError\u001b[0m                         Traceback (most recent call last)",
      "Cell \u001b[1;32mIn[2], line 8\u001b[0m\n\u001b[0;32m      5\u001b[0m num1 \u001b[39m=\u001b[39m \u001b[39m10\u001b[39m\n\u001b[0;32m      6\u001b[0m num2 \u001b[39m=\u001b[39m \u001b[39m0\u001b[39m\n\u001b[1;32m----> 8\u001b[0m result \u001b[39m=\u001b[39m divide_numbers(num1, num2)\n\u001b[0;32m      9\u001b[0m \u001b[39mprint\u001b[39m(\u001b[39m\"\u001b[39m\u001b[39mResult:\u001b[39m\u001b[39m\"\u001b[39m, result)\n",
      "Cell \u001b[1;32mIn[2], line 2\u001b[0m, in \u001b[0;36mdivide_numbers\u001b[1;34m(a, b)\u001b[0m\n\u001b[0;32m      1\u001b[0m \u001b[39mdef\u001b[39;00m \u001b[39mdivide_numbers\u001b[39m(a, b):\n\u001b[1;32m----> 2\u001b[0m     result \u001b[39m=\u001b[39m a \u001b[39m/\u001b[39;49m b\n\u001b[0;32m      3\u001b[0m     \u001b[39mreturn\u001b[39;00m result\n",
      "\u001b[1;31mZeroDivisionError\u001b[0m: division by zero"
     ]
    }
   ],
   "source": [
    "def divide_numbers(a, b):\n",
    "    result = a / b\n",
    "    return result\n",
    "\n",
    "num1 = 10\n",
    "num2 = 0\n",
    "\n",
    "result = divide_numbers(num1, num2)\n",
    "print(\"Result:\", result)"
   ]
  },
  {
   "attachments": {},
   "cell_type": "markdown",
   "metadata": {},
   "source": [
    "3) which python statements are used to catch nd handle exceptions? Explain with an example."
   ]
  },
  {
   "attachments": {},
   "cell_type": "markdown",
   "metadata": {},
   "source": [
    "Try Block: This block is used to catch the exceptions.\n",
    "Except Block: This block is used to Handle the Exceptions, This block will be excuted only when there is only exception occurred in try block."
   ]
  },
  {
   "cell_type": "code",
   "execution_count": null,
   "metadata": {},
   "outputs": [],
   "source": [
    "try:\n",
    "    num1=int(input('n: '))\n",
    "    num2=int(input('d: '))\n",
    "    result=num1 / num2\n",
    "except Exception as e:\n",
    "    print('Error occurred:',e)\n",
    "else:\n",
    "    print(f'result: {result}') "
   ]
  },
  {
   "attachments": {},
   "cell_type": "markdown",
   "metadata": {},
   "source": [
    "4) explain with an example:\n",
    "    a.try and else\n",
    "    b.finally\n",
    "    c.raise"
   ]
  },
  {
   "cell_type": "code",
   "execution_count": 2,
   "metadata": {},
   "outputs": [],
   "source": [
    "'''\n",
    "Try and Else :\n",
    "    Try block contains code which may raise an exception.Else Block will be excuted if no exception is raised in try block,if exception occurred else block will not be excuted.'''\n",
    "try:\n",
    "    num1=int(input('n: '))\n",
    "    num2=int(input('d: '))\n",
    "    result= num1 / num2\n",
    "except Exception as e:\n",
    "    print('Error occurred:',e)\n",
    "else:\n",
    "    print(f'result: {result}') "
   ]
  },
  {
   "cell_type": "code",
   "execution_count": null,
   "metadata": {},
   "outputs": [],
   "source": [
    "'''\n",
    "Finally Block:\n",
    "    this block is used to define a section of code reguardless of Exception occurred or not.'''\n",
    "try:\n",
    "    num1=int(input('n: '))\n",
    "    num2=int(input('d: '))\n",
    "    result= num1 / num2\n",
    "except Exception as e:\n",
    "    print('Error occurred:',e)\n",
    "else:\n",
    "    print(f'result: {result}') \n",
    "finally:\n",
    "    print('This block aiways excutale')"
   ]
  },
  {
   "cell_type": "code",
   "execution_count": null,
   "metadata": {},
   "outputs": [],
   "source": [
    "'''\n",
    "Raise : It is a keyword allows you to create custom exceptions or to raise built-in exceptions to indicate errors.'''\n",
    "def square_root(num):\n",
    "    if num < 0:\n",
    "        raise ValueError(\"Can't be caculate\")\n",
    "    else:\n",
    "        print(num ** 0.5) \n",
    "try:\n",
    "    num=int(input('num: '))\n",
    "    result=square_root(num)\n",
    "    print('square_root: ',result)\n",
    "except ValueError as e:\n",
    "    print(e)"
   ]
  },
  {
   "attachments": {},
   "cell_type": "markdown",
   "metadata": {},
   "source": [
    "5) what are custom exceptions in python ?why we need? explain with example."
   ]
  },
  {
   "attachments": {},
   "cell_type": "markdown",
   "metadata": {},
   "source": [
    "custom exceptions are user defined exceptions that allow you to create our own exceptions classes to handle specific error conditions in our code.\n",
    "These covers the exceptions which not covered in built-in exceptions.\n",
    "\n",
    "Custom exceptions are needed to make our code more redable,modular,and maintainable. It provides more fine control over error handling."
   ]
  },
  {
   "cell_type": "code",
   "execution_count": 1,
   "metadata": {},
   "outputs": [],
   "source": [
    "# custom exception example\n",
    "class InvalidAgeError(Exception):\n",
    "    def __init__(self):\n",
    "        print('Exception raised due to Invalid age')\n",
    "\n",
    "def valid_voter(age):\n",
    "    if age < 0 or age < 18 :\n",
    "        raise InvalidAgeError\n",
    "    else:\n",
    "        print('Eligible to vote')\n",
    "\n",
    "try:\n",
    "    age=int(input('age: '))\n",
    "    valid_voter(age)\n",
    "except InvalidAgeError as e:\n",
    "    print(e)"
   ]
  },
  {
   "attachments": {},
   "cell_type": "markdown",
   "metadata": {},
   "source": [
    "6) Create a custom exception class. Use this class to handle an exception."
   ]
  },
  {
   "cell_type": "code",
   "execution_count": null,
   "metadata": {},
   "outputs": [],
   "source": [
    "class BalanceError(Exception):\n",
    "    def __init__(self):\n",
    "        print(\"Exception raised for insufficient balance.\")\n",
    "\n",
    "\n",
    "def withdraw(amount, balance):\n",
    "    if amount > balance:\n",
    "        raise BalanceError\n",
    "    else:\n",
    "        print(\"Withdrawal successful.\")\n",
    "\n",
    "try:\n",
    "    with_amt=int(input('amount to withdraw: '))\n",
    "    bal=int(input('Balance amount: '))\n",
    "    withdraw(with_amt,bal)\n",
    "except BalanceError as e:\n",
    "    print(e)"
   ]
  }
 ],
 "metadata": {
  "kernelspec": {
   "display_name": "Python 3",
   "language": "python",
   "name": "python3"
  },
  "language_info": {
   "codemirror_mode": {
    "name": "ipython",
    "version": 3
   },
   "file_extension": ".py",
   "mimetype": "text/x-python",
   "name": "python",
   "nbconvert_exporter": "python",
   "pygments_lexer": "ipython3",
   "version": "3.11.0"
  },
  "orig_nbformat": 4
 },
 "nbformat": 4,
 "nbformat_minor": 2
}
